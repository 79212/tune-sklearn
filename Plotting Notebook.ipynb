{
 "cells": [
  {
   "cell_type": "code",
   "execution_count": 1,
   "metadata": {},
   "outputs": [],
   "source": [
    "from scipy import io\n",
    "data = io.loadmat(\"mnist_data.mat\")"
   ]
  },
  {
   "cell_type": "code",
   "execution_count": 2,
   "metadata": {},
   "outputs": [
    {
     "data": {
      "text/plain": [
       "{'__header__': b'MATLAB 5.0 MAT-file Platform: posix, Created on: Wed Feb 13 17:30:33 2019',\n",
       " '__version__': '1.0',\n",
       " '__globals__': [],\n",
       " 'training_data': array([[0, 0, 0, ..., 0, 0, 0],\n",
       "        [0, 0, 0, ..., 0, 0, 0],\n",
       "        [0, 0, 0, ..., 0, 0, 0],\n",
       "        ...,\n",
       "        [0, 0, 0, ..., 0, 0, 0],\n",
       "        [0, 0, 0, ..., 0, 0, 0],\n",
       "        [0, 0, 0, ..., 0, 0, 0]], dtype=uint8),\n",
       " 'training_labels': array([[8],\n",
       "        [2],\n",
       "        [7],\n",
       "        ...,\n",
       "        [3],\n",
       "        [6],\n",
       "        [0]], dtype=uint8),\n",
       " 'test_data': array([[0, 0, 0, ..., 0, 0, 0],\n",
       "        [0, 0, 0, ..., 0, 0, 0],\n",
       "        [0, 0, 0, ..., 0, 0, 0],\n",
       "        ...,\n",
       "        [0, 0, 0, ..., 0, 0, 0],\n",
       "        [0, 0, 0, ..., 0, 0, 0],\n",
       "        [0, 0, 0, ..., 0, 0, 0]], dtype=uint8)}"
      ]
     },
     "execution_count": 2,
     "metadata": {},
     "output_type": "execute_result"
    }
   ],
   "source": [
    "data"
   ]
  },
  {
   "cell_type": "code",
   "execution_count": 3,
   "metadata": {},
   "outputs": [],
   "source": [
    "from tune_sklearn.tune_search import TuneGridSearchCV\n",
    "from sklearn.model_selection import GridSearchCV\n",
    "from sklearn import datasets\n",
    "from sklearn.model_selection import train_test_split\n",
    "from sklearn.svm import SVC\n",
    "from ray.tune.schedulers import MedianStoppingRule\n",
    "import time"
   ]
  },
  {
   "cell_type": "code",
   "execution_count": 4,
   "metadata": {},
   "outputs": [],
   "source": [
    "X = data[\"training_data\"]\n",
    "y = data[\"training_labels\"].ravel()\n",
    "X_train, X_test, y_train, y_test = train_test_split(\n",
    "    X, y, test_size=0.1, random_state=0)\n",
    "\n",
    "tuned_parameters = {'kernel': ['linear'],\n",
    "                    'C': [1e-20, 1e-10, 1e-5]\n",
    "                    }"
   ]
  },
  {
   "cell_type": "code",
   "execution_count": 5,
   "metadata": {},
   "outputs": [
    {
     "name": "stderr",
     "output_type": "stream",
     "text": [
      "2020-02-24 02:33:01,291\tINFO resource_spec.py:212 -- Starting Ray with 5.66 GiB memory available for workers and up to 2.85 GiB for objects. You can adjust these settings with ray.init(memory=<bytes>, object_store_memory=<bytes>).\n",
      "2020-02-24 02:33:02,114\tINFO services.py:1083 -- View the Ray dashboard at \u001b[1m\u001b[32mlocalhost:8265\u001b[39m\u001b[22m\n",
      "2020-02-24 02:33:10,649\tINFO tune.py:352 -- Returning an analysis object by default. You can call `analysis.trials` to retrieve a list of trials. This message will be removed in future versions of Tune.\n"
     ]
    },
    {
     "name": "stdout",
     "output_type": "stream",
     "text": [
      "0.8766666666666667\n",
      "{'params': [{'C': 1e-20, 'kernel': 'linear'}, {'C': 1e-10, 'kernel': 'linear'}, {'C': 1e-05, 'kernel': 'linear'}], 'split0_test_score': array([0.13 , 0.13 , 0.885]), 'split1_test_score': array([0.135, 0.135, 0.895]), 'split2_test_score': array([0.135, 0.135, 0.86 ]), 'split3_test_score': array([0.135, 0.135, 0.905]), 'split4_test_score': array([0.13, 0.13, 0.92]), 'mean_test_score': array([0.133, 0.133, 0.893]), 'std_test_score': array([0.00244949, 0.00244949, 0.02014944]), 'rank_test_score': array([2, 2, 1], dtype=int32), 'time_total_s': array([4.60599971, 4.63619614, 1.66792393]), 'param_C': masked_array(data=[1e-20, 1e-10, 1e-05],\n",
      "             mask=[False, False, False],\n",
      "       fill_value='?',\n",
      "            dtype=object), 'param_kernel': masked_array(data=['linear', 'linear', 'linear'],\n",
      "             mask=[False, False, False],\n",
      "       fill_value='?',\n",
      "            dtype=object)}\n",
      "9.831382989883423\n"
     ]
    },
    {
     "name": "stderr",
     "output_type": "stream",
     "text": [
      "2020-02-24 02:33:34,677\tINFO tune.py:352 -- Returning an analysis object by default. You can call `analysis.trials` to retrieve a list of trials. This message will be removed in future versions of Tune.\n"
     ]
    },
    {
     "name": "stdout",
     "output_type": "stream",
     "text": [
      "0.8938333333333334\n",
      "{'params': [{'C': 1e-20, 'kernel': 'linear'}, {'C': 1e-10, 'kernel': 'linear'}, {'C': 1e-05, 'kernel': 'linear'}], 'split0_test_score': array([0.12 , 0.12 , 0.885]), 'split1_test_score': array([0.12, 0.12, 0.87]), 'split2_test_score': array([0.12, 0.12, 0.9 ]), 'split3_test_score': array([0.12  , 0.12  , 0.9175]), 'split4_test_score': array([0.12  , 0.12  , 0.8825]), 'mean_test_score': array([0.12 , 0.12 , 0.891]), 'std_test_score': array([0.        , 0.        , 0.01632483]), 'rank_test_score': array([2, 2, 1], dtype=int32), 'time_total_s': array([19.53509998, 19.64134884,  4.8765409 ]), 'param_C': masked_array(data=[1e-20, 1e-10, 1e-05],\n",
      "             mask=[False, False, False],\n",
      "       fill_value='?',\n",
      "            dtype=object), 'param_kernel': masked_array(data=['linear', 'linear', 'linear'],\n",
      "             mask=[False, False, False],\n",
      "       fill_value='?',\n",
      "            dtype=object)}\n",
      "22.02262783050537\n"
     ]
    },
    {
     "name": "stderr",
     "output_type": "stream",
     "text": [
      "2020-02-24 02:34:26,080\tINFO tune.py:352 -- Returning an analysis object by default. You can call `analysis.trials` to retrieve a list of trials. This message will be removed in future versions of Tune.\n"
     ]
    },
    {
     "name": "stdout",
     "output_type": "stream",
     "text": [
      "0.8998333333333334\n",
      "{'params': [{'C': 1e-20, 'kernel': 'linear'}, {'C': 1e-10, 'kernel': 'linear'}, {'C': 1e-05, 'kernel': 'linear'}], 'split0_test_score': array([0.11333333, 0.11333333, 0.885     ]), 'split1_test_score': array([0.11333333, 0.11333333, 0.90666667]), 'split2_test_score': array([0.11333333, 0.11333333, 0.90333333]), 'split3_test_score': array([0.11333333, 0.11333333, 0.90333333]), 'split4_test_score': array([0.11333333, 0.11333333, 0.91      ]), 'mean_test_score': array([0.11333333, 0.11333333, 0.90166667]), 'std_test_score': array([0.        , 0.        , 0.00869227]), 'rank_test_score': array([2, 2, 1], dtype=int32), 'time_total_s': array([44.52373815, 44.71481681,  9.22442818]), 'param_C': masked_array(data=[1e-20, 1e-10, 1e-05],\n",
      "             mask=[False, False, False],\n",
      "       fill_value='?',\n",
      "            dtype=object), 'param_kernel': masked_array(data=['linear', 'linear', 'linear'],\n",
      "             mask=[False, False, False],\n",
      "       fill_value='?',\n",
      "            dtype=object)}\n",
      "48.109400033950806\n"
     ]
    },
    {
     "name": "stderr",
     "output_type": "stream",
     "text": [
      "2020-02-24 02:36:00,551\tINFO tune.py:352 -- Returning an analysis object by default. You can call `analysis.trials` to retrieve a list of trials. This message will be removed in future versions of Tune.\n"
     ]
    },
    {
     "name": "stdout",
     "output_type": "stream",
     "text": [
      "0.9031666666666667\n",
      "{'params': [{'C': 1e-20, 'kernel': 'linear'}, {'C': 1e-10, 'kernel': 'linear'}, {'C': 1e-05, 'kernel': 'linear'}], 'split0_test_score': array([0.1125 , 0.1125 , 0.89625]), 'split1_test_score': array([0.1125 , 0.1125 , 0.92875]), 'split2_test_score': array([0.1125 , 0.1125 , 0.90125]), 'split3_test_score': array([0.1125 , 0.1125 , 0.90875]), 'split4_test_score': array([0.11375, 0.11375, 0.89625]), 'mean_test_score': array([0.11275, 0.11275, 0.90625]), 'std_test_score': array([0.0005    , 0.0005    , 0.01214496]), 'rank_test_score': array([2, 2, 1], dtype=int32), 'time_total_s': array([83.78176117, 84.01392794, 14.67050695]), 'param_C': masked_array(data=[1e-20, 1e-10, 1e-05],\n",
      "             mask=[False, False, False],\n",
      "       fill_value='?',\n",
      "            dtype=object), 'param_kernel': masked_array(data=['linear', 'linear', 'linear'],\n",
      "             mask=[False, False, False],\n",
      "       fill_value='?',\n",
      "            dtype=object)}\n",
      "89.95384287834167\n"
     ]
    },
    {
     "name": "stderr",
     "output_type": "stream",
     "text": [
      "2020-02-24 02:38:16,404\tINFO tune.py:352 -- Returning an analysis object by default. You can call `analysis.trials` to retrieve a list of trials. This message will be removed in future versions of Tune.\n"
     ]
    },
    {
     "name": "stdout",
     "output_type": "stream",
     "text": [
      "0.9018333333333334\n",
      "{'params': [{'C': 1e-20, 'kernel': 'linear'}, {'C': 1e-10, 'kernel': 'linear'}, {'C': 1e-05, 'kernel': 'linear'}], 'split0_test_score': array([0.108, 0.108, 0.904]), 'split1_test_score': array([0.109, 0.109, 0.912]), 'split2_test_score': array([0.109, 0.109, 0.91 ]), 'split3_test_score': array([0.109, 0.109, 0.911]), 'split4_test_score': array([0.108, 0.108, 0.902]), 'mean_test_score': array([0.1086, 0.1086, 0.9078]), 'std_test_score': array([0.0004899 , 0.0004899 , 0.00401995]), 'rank_test_score': array([2, 2, 1], dtype=int32), 'time_total_s': array([124.43639898, 124.84345794,  20.48403597]), 'param_C': masked_array(data=[1e-20, 1e-10, 1e-05],\n",
      "             mask=[False, False, False],\n",
      "       fill_value='?',\n",
      "            dtype=object), 'param_kernel': masked_array(data=['linear', 'linear', 'linear'],\n",
      "             mask=[False, False, False],\n",
      "       fill_value='?',\n",
      "            dtype=object)}\n",
      "130.80773901939392\n"
     ]
    }
   ],
   "source": [
    "ts_times_overall = []\n",
    "ts_cv_results = []\n",
    "for size in [1000, 2000, 3000, 4000, 5000]:\n",
    "    X_subset = X_train[:size]\n",
    "    y_subset = y_train[:size]\n",
    "    start = time.time()\n",
    "    tune_search = TuneGridSearchCV(SVC(),\n",
    "                                   tuned_parameters,\n",
    "                                   scheduler=MedianStoppingRule(metric=\"average_test_score\"))\n",
    "    tune_search.fit(X_subset, y_subset)\n",
    "    end = time.time()\n",
    "    ts_time_overall = end - start\n",
    "\n",
    "    pred = tune_search.predict(X_test)\n",
    "\n",
    "    correct = 0\n",
    "    for i in range(len(pred)):\n",
    "        if pred[i] == y_test[i]:\n",
    "            correct += 1\n",
    "    print(correct / len(pred))\n",
    "    print(tune_search.cv_results_)\n",
    "    print(ts_time_overall)\n",
    "    \n",
    "    ts_times_overall.append(ts_time_overall)\n",
    "    ts_cv_results.append(tune_search.cv_results_)"
   ]
  },
  {
   "cell_type": "code",
   "execution_count": 11,
   "metadata": {},
   "outputs": [
    {
     "name": "stdout",
     "output_type": "stream",
     "text": [
      "0.8766666666666667\n",
      "{'mean_fit_time': array([0.78797131, 0.79079151, 0.24086533]), 'std_fit_time': array([0.0162334 , 0.00342097, 0.00515999]), 'mean_score_time': array([0.11671829, 0.11641898, 0.07412729]), 'std_score_time': array([0.00233609, 0.00079673, 0.00113951]), 'param_C': masked_array(data=[1e-20, 1e-10, 1e-05],\n",
      "             mask=[False, False, False],\n",
      "       fill_value='?',\n",
      "            dtype=object), 'param_kernel': masked_array(data=['linear', 'linear', 'linear'],\n",
      "             mask=[False, False, False],\n",
      "       fill_value='?',\n",
      "            dtype=object), 'params': [{'C': 1e-20, 'kernel': 'linear'}, {'C': 1e-10, 'kernel': 'linear'}, {'C': 1e-05, 'kernel': 'linear'}], 'split0_test_score': array([0.13 , 0.13 , 0.885]), 'split1_test_score': array([0.135, 0.135, 0.895]), 'split2_test_score': array([0.135, 0.135, 0.86 ]), 'split3_test_score': array([0.135, 0.135, 0.905]), 'split4_test_score': array([0.13, 0.13, 0.92]), 'mean_test_score': array([0.133, 0.133, 0.893]), 'std_test_score': array([0.00244949, 0.00244949, 0.02014944]), 'rank_test_score': array([2, 2, 1], dtype=int32)}\n",
      "10.98676085472107\n",
      "0.8938333333333334\n",
      "{'mean_fit_time': array([3.17692118, 3.211379  , 0.65309858]), 'std_fit_time': array([0.0037103 , 0.01815674, 0.01657275]), 'mean_score_time': array([0.4585547 , 0.50158715, 0.23723202]), 'std_score_time': array([0.00279586, 0.07918786, 0.00455474]), 'param_C': masked_array(data=[1e-20, 1e-10, 1e-05],\n",
      "             mask=[False, False, False],\n",
      "       fill_value='?',\n",
      "            dtype=object), 'param_kernel': masked_array(data=['linear', 'linear', 'linear'],\n",
      "             mask=[False, False, False],\n",
      "       fill_value='?',\n",
      "            dtype=object), 'params': [{'C': 1e-20, 'kernel': 'linear'}, {'C': 1e-10, 'kernel': 'linear'}, {'C': 1e-05, 'kernel': 'linear'}], 'split0_test_score': array([0.12 , 0.12 , 0.885]), 'split1_test_score': array([0.12, 0.12, 0.87]), 'split2_test_score': array([0.12, 0.12, 0.9 ]), 'split3_test_score': array([0.12  , 0.12  , 0.9175]), 'split4_test_score': array([0.12  , 0.12  , 0.8825]), 'mean_test_score': array([0.12 , 0.12 , 0.891]), 'std_test_score': array([0.        , 0.        , 0.01632483]), 'rank_test_score': array([2, 2, 1], dtype=int32)}\n",
      "42.17122411727905\n",
      "0.8998333333333334\n",
      "{'mean_fit_time': array([7.37539759, 7.42712116, 1.26467404]), 'std_fit_time': array([0.02704014, 0.03378927, 0.03206914]), 'mean_score_time': array([1.03062639, 1.04088144, 0.47530627]), 'std_score_time': array([0.00344899, 0.0184356 , 0.00859338]), 'param_C': masked_array(data=[1e-20, 1e-10, 1e-05],\n",
      "             mask=[False, False, False],\n",
      "       fill_value='?',\n",
      "            dtype=object), 'param_kernel': masked_array(data=['linear', 'linear', 'linear'],\n",
      "             mask=[False, False, False],\n",
      "       fill_value='?',\n",
      "            dtype=object), 'params': [{'C': 1e-20, 'kernel': 'linear'}, {'C': 1e-10, 'kernel': 'linear'}, {'C': 1e-05, 'kernel': 'linear'}], 'split0_test_score': array([0.11333333, 0.11333333, 0.885     ]), 'split1_test_score': array([0.11333333, 0.11333333, 0.90666667]), 'split2_test_score': array([0.11333333, 0.11333333, 0.90333333]), 'split3_test_score': array([0.11333333, 0.11333333, 0.90333333]), 'split4_test_score': array([0.11333333, 0.11333333, 0.91      ]), 'mean_test_score': array([0.11333333, 0.11333333, 0.90166667]), 'std_test_score': array([0.        , 0.        , 0.00869227]), 'rank_test_score': array([2, 2, 1], dtype=int32)}\n",
      "94.81184792518616\n",
      "0.9031666666666667\n",
      "{'mean_fit_time': array([13.43554263, 13.52292657,  1.9518405 ]), 'std_fit_time': array([0.03149846, 0.02036542, 0.03027394]), 'mean_score_time': array([1.82657099, 1.85046158, 0.75218468]), 'std_score_time': array([0.00317222, 0.03893461, 0.0246659 ]), 'param_C': masked_array(data=[1e-20, 1e-10, 1e-05],\n",
      "             mask=[False, False, False],\n",
      "       fill_value='?',\n",
      "            dtype=object), 'param_kernel': masked_array(data=['linear', 'linear', 'linear'],\n",
      "             mask=[False, False, False],\n",
      "       fill_value='?',\n",
      "            dtype=object), 'params': [{'C': 1e-20, 'kernel': 'linear'}, {'C': 1e-10, 'kernel': 'linear'}, {'C': 1e-05, 'kernel': 'linear'}], 'split0_test_score': array([0.1125 , 0.1125 , 0.89625]), 'split1_test_score': array([0.1125 , 0.1125 , 0.92875]), 'split2_test_score': array([0.1125 , 0.1125 , 0.90125]), 'split3_test_score': array([0.1125 , 0.1125 , 0.90875]), 'split4_test_score': array([0.11375, 0.11375, 0.89625]), 'mean_test_score': array([0.11275, 0.11275, 0.90625]), 'std_test_score': array([0.0005    , 0.0005    , 0.01214496]), 'rank_test_score': array([2, 2, 1], dtype=int32)}\n",
      "169.4283790588379\n",
      "0.9018333333333334\n",
      "{'mean_fit_time': array([21.54186797, 21.1592371 ,  2.65226054]), 'std_fit_time': array([0.41088554, 0.09600954, 0.02582631]), 'mean_score_time': array([2.98731327, 2.91306949, 1.06474967]), 'std_score_time': array([0.05812592, 0.00583591, 0.01061244]), 'param_C': masked_array(data=[1e-20, 1e-10, 1e-05],\n",
      "             mask=[False, False, False],\n",
      "       fill_value='?',\n",
      "            dtype=object), 'param_kernel': masked_array(data=['linear', 'linear', 'linear'],\n",
      "             mask=[False, False, False],\n",
      "       fill_value='?',\n",
      "            dtype=object), 'params': [{'C': 1e-20, 'kernel': 'linear'}, {'C': 1e-10, 'kernel': 'linear'}, {'C': 1e-05, 'kernel': 'linear'}], 'split0_test_score': array([0.108, 0.108, 0.904]), 'split1_test_score': array([0.109, 0.109, 0.912]), 'split2_test_score': array([0.109, 0.109, 0.91 ]), 'split3_test_score': array([0.109, 0.109, 0.911]), 'split4_test_score': array([0.108, 0.108, 0.902]), 'mean_test_score': array([0.1086, 0.1086, 0.9078]), 'std_test_score': array([0.0004899 , 0.0004899 , 0.00401995]), 'rank_test_score': array([2, 2, 1], dtype=int32)}\n",
      "265.43005180358887\n"
     ]
    }
   ],
   "source": [
    "gs_times_overall = []\n",
    "gs_cv_results = []\n",
    "for size in [1000, 2000, 3000, 4000, 5000]:\n",
    "    X_subset = X_train[:size]\n",
    "    y_subset = y_train[:size]\n",
    "    start = time.time()\n",
    "    gs = GridSearchCV(SVC(), tuned_parameters)\n",
    "    gs.fit(X_subset, y_subset)\n",
    "    end = time.time()\n",
    "    gs_time_overall = end - start\n",
    "\n",
    "    gs_pred = gs.predict(X_test)\n",
    "\n",
    "    correct = 0\n",
    "    for i in range(len(gs_pred)):\n",
    "        if gs_pred[i] == y_test[i]:\n",
    "            correct += 1\n",
    "    print(correct / len(gs_pred))\n",
    "    print(gs.cv_results_)\n",
    "    print(gs_time_overall)\n",
    "    \n",
    "    gs_times_overall.append(gs_time_overall)\n",
    "    gs_cv_results.append(gs.cv_results_)"
   ]
  },
  {
   "cell_type": "code",
   "execution_count": 12,
   "metadata": {},
   "outputs": [],
   "source": [
    "import matplotlib.pyplot as plt\n",
    "import numpy as np"
   ]
  },
  {
   "cell_type": "code",
   "execution_count": 13,
   "metadata": {},
   "outputs": [
    {
     "data": {
      "image/png": "[encoded data removed]",
      "text/plain": [
       "<Figure size 432x288 with 1 Axes>"
      ]
     },
     "metadata": {
      "needs_background": "light"
     },
     "output_type": "display_data"
    }
   ],
   "source": [
    "sizes = [1000, 2000, 3000, 4000, 5000]\n",
    "plt.plot(sizes, gs_times_overall, 'b-', sizes, ts_times_overall, 'r-')\n",
    "plt.xticks(sizes)\n",
    "plt.xlabel(\"Training Set Size\")\n",
    "plt.ylabel(\"Overall fit time (seconds)\")\n",
    "plt.legend([\"Sklearn\", \"Tune\"])\n",
    "plt.show()"
   ]
  },
  {
   "cell_type": "code",
   "execution_count": 43,
   "metadata": {},
   "outputs": [
    {
     "data": {
      "text/plain": [
       "(784,)"
      ]
     },
     "execution_count": 43,
     "metadata": {},
     "output_type": "execute_result"
    }
   ],
   "source": [
    "X[0].shape"
   ]
  },
  {
   "cell_type": "code",
   "execution_count": 14,
   "metadata": {},
   "outputs": [
    {
     "data": {
      "text/plain": [
       "{'params': [{'C': 1e-20, 'kernel': 'linear'},\n",
       "  {'C': 1e-10, 'kernel': 'linear'},\n",
       "  {'C': 1e-05, 'kernel': 'linear'}],\n",
       " 'split0_test_score': array([0.108, 0.108, 0.904]),\n",
       " 'split1_test_score': array([0.109, 0.109, 0.912]),\n",
       " 'split2_test_score': array([0.109, 0.109, 0.91 ]),\n",
       " 'split3_test_score': array([0.109, 0.109, 0.911]),\n",
       " 'split4_test_score': array([0.108, 0.108, 0.902]),\n",
       " 'mean_test_score': array([0.1086, 0.1086, 0.9078]),\n",
       " 'std_test_score': array([0.0004899 , 0.0004899 , 0.00401995]),\n",
       " 'rank_test_score': array([2, 2, 1], dtype=int32),\n",
       " 'time_total_s': array([127.84997392, 128.23335886,  21.95795798]),\n",
       " 'param_C': masked_array(data=[1e-20, 1e-10, 1e-05],\n",
       "              mask=[False, False, False],\n",
       "        fill_value='?',\n",
       "             dtype=object),\n",
       " 'param_kernel': masked_array(data=['linear', 'linear', 'linear'],\n",
       "              mask=[False, False, False],\n",
       "        fill_value='?',\n",
       "             dtype=object)}"
      ]
     },
     "execution_count": 14,
     "metadata": {},
     "output_type": "execute_result"
    }
   ],
   "source": [
    "tune_search.cv_results_"
   ]
  },
  {
   "cell_type": "code",
   "execution_count": 15,
   "metadata": {},
   "outputs": [
    {
     "data": {
      "text/plain": [
       "{'mean_fit_time': array([21.54186797, 21.1592371 ,  2.65226054]),\n",
       " 'std_fit_time': array([0.41088554, 0.09600954, 0.02582631]),\n",
       " 'mean_score_time': array([2.98731327, 2.91306949, 1.06474967]),\n",
       " 'std_score_time': array([0.05812592, 0.00583591, 0.01061244]),\n",
       " 'param_C': masked_array(data=[1e-20, 1e-10, 1e-05],\n",
       "              mask=[False, False, False],\n",
       "        fill_value='?',\n",
       "             dtype=object),\n",
       " 'param_kernel': masked_array(data=['linear', 'linear', 'linear'],\n",
       "              mask=[False, False, False],\n",
       "        fill_value='?',\n",
       "             dtype=object),\n",
       " 'params': [{'C': 1e-20, 'kernel': 'linear'},\n",
       "  {'C': 1e-10, 'kernel': 'linear'},\n",
       "  {'C': 1e-05, 'kernel': 'linear'}],\n",
       " 'split0_test_score': array([0.108, 0.108, 0.904]),\n",
       " 'split1_test_score': array([0.109, 0.109, 0.912]),\n",
       " 'split2_test_score': array([0.109, 0.109, 0.91 ]),\n",
       " 'split3_test_score': array([0.109, 0.109, 0.911]),\n",
       " 'split4_test_score': array([0.108, 0.108, 0.902]),\n",
       " 'mean_test_score': array([0.1086, 0.1086, 0.9078]),\n",
       " 'std_test_score': array([0.0004899 , 0.0004899 , 0.00401995]),\n",
       " 'rank_test_score': array([2, 2, 1], dtype=int32)}"
      ]
     },
     "execution_count": 15,
     "metadata": {},
     "output_type": "execute_result"
    }
   ],
   "source": [
    "gs.cv_results_"
   ]
  },
  {
   "cell_type": "code",
   "execution_count": null,
   "metadata": {},
   "outputs": [],
   "source": []
  }
 ],
 "metadata": {
  "kernelspec": {
   "display_name": "Python 3",
   "language": "python",
   "name": "python3"
  },
  "language_info": {
   "codemirror_mode": {
    "name": "ipython",
    "version": 3
   },
   "file_extension": ".py",
   "mimetype": "text/x-python",
   "name": "python",
   "nbconvert_exporter": "python",
   "pygments_lexer": "ipython3",
   "version": "3.7.6"
  }
 },
 "nbformat": 4,
 "nbformat_minor": 2
}
